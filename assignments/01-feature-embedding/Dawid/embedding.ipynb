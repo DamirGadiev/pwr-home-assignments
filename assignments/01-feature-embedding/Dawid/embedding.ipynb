{
 "cells": [
  {
   "cell_type": "code",
   "execution_count": 6,
   "metadata": {},
   "outputs": [],
   "source": [
    "import pennylane as qml\n",
    "\n",
    "import numpy as np\n",
    "import matplotlib.pyplot as plt\n",
    "from sklearn.datasets import make_classification\n",
    "\n",
    "import torch\n",
    "import torch.nn as nn\n",
    "from torch.autograd import Variable"
   ]
  },
  {
   "cell_type": "code",
   "execution_count": 7,
   "metadata": {},
   "outputs": [],
   "source": [
    "n_samples = 1000\n",
    "n_features = 8\n",
    "X, Y = make_classification(n_samples=n_samples, n_features=n_features)\n",
    "\n",
    "x = torch.from_numpy(X.astype(np.float32))\n",
    "y = torch.from_numpy(Y.astype(np.float32)).view(-1,1)"
   ]
  },
  {
   "cell_type": "code",
   "execution_count": 38,
   "metadata": {},
   "outputs": [],
   "source": [
    "n_qubits = 3\n",
    "q_depth = 4\n",
    "dev = qml.device(\"lightning.qubit\", wires = n_qubits)\n",
    "\n",
    "def angle_embedding(inputs):\n",
    "    for i in range(n_qubits):\n",
    "        qml.Hadamard(wires = i)\n",
    "        \n",
    "    for i in range(n_qubits):\n",
    "        qml.RY(inputs[(2 * i) ], wires=i)\n",
    "        qml.RZ(inputs[(2 * i) + 1], wires=i)\n",
    "\n",
    "def amplitude_embedding(inputs):\n",
    "    amp = 1/(1+torch.exp(-inputs))\n",
    "    amp = amp/torch.sqrt(sum(amp**2))\n",
    "    qml.StatePrep(amp, wires=range(3))\n",
    "\n",
    "embedding = amplitude_embedding\n",
    "\n",
    "@qml.qnode(dev, interface='torch')\n",
    "def qnode(inputs, weights):\n",
    "\n",
    "    embedding(inputs)\n",
    "\n",
    "    for i in range(q_depth):\n",
    "        for j in range(n_qubits):\n",
    "            qml.RY(weights[2*(i*n_qubits + j) ], wires=j)\n",
    "            qml.RZ(weights[2*(i*n_qubits + j) + 1], wires=j)\n",
    "        for j in range(n_qubits):\n",
    "            if (j == (n_qubits - 1)):\n",
    "                qml.CNOT(wires=[j,0])\n",
    "            else:\n",
    "                qml.CNOT(wires=[j,j+1])\n",
    "\n",
    "    for i in range(n_qubits):\n",
    "        qml.RY(weights[(2*q_depth * n_qubits) + i ], wires=i)\n",
    "        qml.RZ(weights[(2*q_depth * n_qubits) + i + 1], wires=i)\n",
    "\n",
    "    return [qml.expval(qml.PauliZ(wires=i)) for i in range(n_qubits)]"
   ]
  },
  {
   "cell_type": "code",
   "execution_count": 39,
   "metadata": {},
   "outputs": [],
   "source": [
    "n_args = 2*(q_depth +1) * n_qubits\n",
    "weight_shapes = {\"weights\": n_args}\n",
    "\n",
    "class QNet(nn.Module):\n",
    "\n",
    "    def __init__(self):\n",
    "        super().__init__()\n",
    "        self.fc1 = nn.Linear(n_features, 8)\n",
    "        self.relu1 = nn.ReLU()\n",
    "        self.dout = nn.Dropout(0.2)\n",
    "        self.qlayer_1 = qml.qnn.TorchLayer(qnode, weight_shapes)\n",
    "        self.relu2 = nn.ReLU()\n",
    "        self.out = nn.Linear(3, 1)\n",
    "        self.out_act = nn.Sigmoid()\n",
    "\n",
    "    def forward(self, input_):\n",
    "        a1 = self.fc1(input_)\n",
    "        h1 = self.relu1(a1)\n",
    "        dout = self.dout(h1)\n",
    "        a2 = self.qlayer_1(dout[0])\n",
    "        h2 = self.relu2(a2.unsqueeze(0))\n",
    "        a3 = self.out(h2)\n",
    "        y = self.out_act(a3)\n",
    "        return y\n",
    "\n",
    "qnet = QNet()"
   ]
  },
  {
   "cell_type": "code",
   "execution_count": 40,
   "metadata": {},
   "outputs": [
    {
     "name": "stdout",
     "output_type": "stream",
     "text": [
      "633.4203040599823\n",
      "533.805628567934\n",
      "421.1389866620302\n",
      "346.5981124192476\n",
      "292.9769009500742\n",
      "268.1575214639306\n",
      "254.4173020236194\n",
      "241.57939662784338\n",
      "234.21226861327887\n",
      "226.9290564097464\n"
     ]
    }
   ],
   "source": [
    "opt = torch.optim.Adam(qnet.parameters(), lr=0.001, betas=(0.9, 0.999))\n",
    "criterion = nn.BCELoss()\n",
    "\n",
    "num_epochs = 10\n",
    "\n",
    "qnet.train()\n",
    "\n",
    "e_losses = []\n",
    "for e in range(num_epochs):\n",
    "    losses = []\n",
    "    for i in range(0, x.size(0)):\n",
    "        x_batch = x[i:i+1, :]\n",
    "        y_batch = y[i:i+1, :]\n",
    "        x_batch = Variable(x_batch)\n",
    "        y_batch = Variable(y_batch)\n",
    "\n",
    "        opt.zero_grad()\n",
    "        y_hat = qnet(x_batch)\n",
    "        loss = criterion(y_hat, y_batch)\n",
    "        loss.backward()\n",
    "        opt.step()\n",
    "        losses.append(loss.data.numpy())\n",
    "    print(sum(losses)) \n",
    "    e_losses += losses\n"
   ]
  },
  {
   "cell_type": "code",
   "execution_count": 41,
   "metadata": {},
   "outputs": [
    {
     "data": {
      "text/plain": [
       "92.4"
      ]
     },
     "execution_count": 41,
     "metadata": {},
     "output_type": "execute_result"
    }
   ],
   "source": [
    "def accuracy_fn(y_true, y_pred):\n",
    "    correct = torch.eq(y_true, y_pred).sum().item()\n",
    "    acc = (correct / len(y_pred)) * 100\n",
    "    return acc\n",
    "\n",
    "test_pred_q = torch.empty((1000,1))\n",
    "for i in range(0, x.size(0)):\n",
    "    x_temp = x[i:i + 1, :]\n",
    "    test_pred_q[i] = torch.round(qnet(x_temp))\n",
    "accuracy_fn(y, test_pred_q)"
   ]
  },
  {
   "cell_type": "markdown",
   "metadata": {},
   "source": [
    "| embedding | accuracy |\n",
    "|---|---|\n",
    "| angle | 92.1% |\n",
    "|  amplitude | 92.4% |\n",
    "| base | ??? |"
   ]
  },
  {
   "cell_type": "code",
   "execution_count": null,
   "metadata": {},
   "outputs": [],
   "source": []
  }
 ],
 "metadata": {
  "kernelspec": {
   "display_name": "allenv",
   "language": "python",
   "name": "python3"
  },
  "language_info": {
   "codemirror_mode": {
    "name": "ipython",
    "version": 3
   },
   "file_extension": ".py",
   "mimetype": "text/x-python",
   "name": "python",
   "nbconvert_exporter": "python",
   "pygments_lexer": "ipython3",
   "version": "3.12.3"
  }
 },
 "nbformat": 4,
 "nbformat_minor": 2
}
